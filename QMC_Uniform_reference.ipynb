{
 "cells": [
  {
   "cell_type": "markdown",
   "metadata": {},
   "source": [
    "# Reference implementation of the QMC algorithm on a uniform Cartesian grid (1D version) #\n",
    "\n",
    "### Abstract ###\n",
    "\n",
    "This notebook presents a reference implementation of a quantum Monte-Carlo algorithm designed for sampling the ground state of the molecular Hamiltonian represented on a uniform Cartesian grid. Details of the theory as well as the aplications to model systems in 1D, 2D and 3D can be found in the accompaning paper. Here, we provide a simplified version of the code for 1D Hamiltonians and demonstrate its perfomance for several of well documented model systems such as 1,2 and 3 fermions in a one deimensional harmonic trap as well as 1D atoms studied in detail by P.-F. Loos et al. (see C. J. Ball et al. *Phys. Chem. Chem. Phys.* 19, 3987 (2017) and P.-F. Loos et al. *Phys. Chem. Chem. Phys.* 17, 3196 (2015))"
   ]
  },
  {
   "cell_type": "markdown",
   "metadata": {},
   "source": [
    "## Implementation of the quantum Monte-Carlo method ##\n",
    "\n",
    "**Random_walk** class provided below implements a grid propagator defined by the following expression for the transition probability:\n",
    "\n",
    "$$ p_d = \\frac{1}{2\\pi} \\int_{ -\\pi}^{\\pi} \\cos(k d) e^{-\\frac{2\\tau}{\\delta^{2}}\\sin^2 (k/2)} dk, $$\n",
    "\n",
    "where d is the length of the step on the 1-D integer lattice ($d = 0, \\pm 1, \\pm 2, \\pm 3,...$), $\\tau$ is the timestep of the diffusion random walk, and $\\delta$ is a uniform grid spacing. The integral is calculated numerically using a general 1-D quadrature subroutine *quad* from *NumPy* for a series of d such that $p_d < 10^{-8}$ (the default value of thresh). The absolute integration accuracy is set to thresh/100 and the relative accuracy is $10^{-3}$."
   ]
  },
  {
   "cell_type": "code",
   "execution_count": 3,
   "metadata": {},
   "outputs": [],
   "source": [
    "# Functor class generating grid displacements\n",
    "\n",
    "class Random_walk:\n",
    "        \n",
    "    \n",
    "    def __init__(self, delta, tau, thresh = 1e-8):\n",
    "        \n",
    "        # The names of the input parameters should be self-explanatory\n",
    "        \n",
    "        import numpy as np\n",
    "        from scipy.integrate import quad\n",
    "        \n",
    "        assert delta > 0. and tau > 0.\n",
    "        self.delta = delta\n",
    "        self.tau = tau\n",
    "                \n",
    "        # Calculate the cumulative probabilites\n",
    "        disp = [0]\n",
    "        pd = []\n",
    "        \n",
    "        def kernel(k, d, t):\n",
    "            return 0.5 * np.exp(-2. * t * np.sin(k/2.)**2 / d**2) / np.pi\n",
    "        \n",
    "        terminate = False\n",
    "        while not terminate:\n",
    "            d = disp[-1]\n",
    "            r = quad(kernel, -np.pi, np.pi, (self.delta, self.tau), weight='cos', wvar=d, epsabs=thresh/100.,epsrel=1e-3)\n",
    "            if r[1] > max(thresh/100., r[0] * 1e-3):\n",
    "                print(\"WARNING! Insufficient integration accuracy for displacement {0}!\\n\".format(r[1]))\n",
    "                \n",
    "            pd.append(r[0])\n",
    "            if abs(r[0]) < thresh:\n",
    "                terminate = True\n",
    "            else:\n",
    "                disp.append(d + 1)\n",
    "                \n",
    "        self.pd = np.array(pd[-1:0:-1] + pd)\n",
    "        self.cumm_pd = np.cumsum(self.pd)\n",
    "        self.disp = np.array([-disp[j] for j in range(len(disp) - 1, 0, -1)] + disp)\n",
    "        \n",
    "    def __call__(self, num_samples):\n",
    "        \n",
    "        import numpy as np\n",
    "        \n",
    "        r = np.random.choice(self.disp, size=num_samples, p=self.pd)\n",
    "        \n",
    "        return r\n",
    "        \n",
    "         \n",
    "    def __call_old__(self, num_samples):\n",
    "        \n",
    "        import numpy as np\n",
    "        \n",
    "        r = np.random.rand(num_samples)\n",
    "        #print len(r)\n",
    "        compare_mask = self.cumm_pd[np.newaxis,:] > r[:,np.newaxis]\n",
    "        #print compare_mask.shape\n",
    "        return np.array(self.disp[np.argmax(compare_mask, axis=1)])\n",
    "        "
   ]
  },
  {
   "cell_type": "markdown",
   "metadata": {},
   "source": [
    "It can be shown that $p_d$ resembles Gaussian distribution in the limit $\\delta \\to 0$ ($\\delta << \\sqrt(\\tau)$). However, the two may differ significantly if $\\delta$ is comparable to $\\sqrt(\\tau)$ as shown by the following example"
   ]
  },
  {
   "cell_type": "code",
   "execution_count": 39,
   "metadata": {},
   "outputs": [
    {
     "data": {
      "text/plain": [
       "<matplotlib.legend.Legend at 0x1520ec0e90>"
      ]
     },
     "execution_count": 39,
     "metadata": {},
     "output_type": "execute_result"
    },
    {
     "data": {
      "image/png": "[encoded data removed]",
      "text/plain": [
       "<Figure size 432x288 with 1 Axes>"
      ]
     },
     "metadata": {},
     "output_type": "display_data"
    }
   ],
   "source": [
    "import numpy as np\n",
    "from matplotlib import pyplot as plt\n",
    "%matplotlib inline\n",
    "\n",
    "delta = 0.1\n",
    "tau = 0.015 \n",
    "rw = Random_walk(delta=delta, tau=tau)\n",
    "disp = rw.disp\n",
    "pd = rw.pd\n",
    "#Discretized Gaussian\n",
    "pd_gau = delta / np.sqrt(2. * np.pi * tau)  * np.exp(-delta**2 * disp**2 / (2. * tau))\n",
    "\n",
    "plt.plot(disp, pd, 'bo', label='Numerical propagator')\n",
    "plt.plot(disp, pd_gau,'r+', label='Discretized gaussian')\n",
    "\n",
    "plt.xlabel(\"Displacement\")\n",
    "plt.ylabel(\"Transition probablity\")\n",
    "plt.legend()"
   ]
  },
  {
   "cell_type": "markdown",
   "metadata": {},
   "source": [
    "The instances of the **Random_walk** class can be used to generate random walks on integer lattices by invoking the '__call__' method. In order to test the validity of our implementation we generate a series of *n_samples* and demonstrate that their distribution agrees with the analytic result."
   ]
  },
  {
   "cell_type": "code",
   "execution_count": 41,
   "metadata": {},
   "outputs": [
    {
     "name": "stdout",
     "output_type": "stream",
     "text": [
      "Number of sampled displacements 100000\n"
     ]
    },
    {
     "data": {
      "text/plain": [
       "<matplotlib.legend.Legend at 0x1520f9bb10>"
      ]
     },
     "execution_count": 41,
     "metadata": {},
     "output_type": "execute_result"
    },
    {
     "data": {
      "image/png": "[encoded data removed]",
      "text/plain": [
       "<Figure size 432x288 with 1 Axes>"
      ]
     },
     "metadata": {},
     "output_type": "display_data"
    }
   ],
   "source": [
    "# Check whether the class produces correct displacement statistics\n",
    "n_samples = 100000\n",
    "displacements = rw(n_samples)\n",
    "print(\"Number of sampled displacements {0}\".format(displacements.shape[0]))\n",
    "assert displacements.shape[0] == n_samples\n",
    "#print(displacements)\n",
    "\n",
    "hist = {}\n",
    "for i in displacements:\n",
    "    if i in hist:\n",
    "        hist[i] += 1\n",
    "    else:\n",
    "        hist[i] = 1\n",
    "\n",
    "# Normalize and compare with the exact distribution\n",
    "plt.plot(hist.keys(), np.array(hist.values())/float(n_samples), 'go', label='Generated distribution')\n",
    "plt.plot(disp, pd, 'b*', label='Exact propagator')\n",
    "\n",
    "plt.xlabel(\"Displacement\")\n",
    "plt.ylabel(\"fraction of samples\")\n",
    "plt.legend()"
   ]
  },
  {
   "cell_type": "markdown",
   "metadata": {},
   "source": [
    "**Walker_ensemble** class implements the core of the grid-based quantum Monte-Carlo algorithm. It uses instances of **Random_walk** class to generate diffusion random walks on spatial grids. The imaginary time propagation is executed by invoking a *one_time_step* method which in turn calls *_diffuse_and_branch, _update_phases* and *_annihilate_walkers* methods. The energy is then 'measured' by the growth estimator. The class also provides a functionality to implement constraints which can for example be used to perform fixed-node simulations and impose spatial symmetry. Present code is restricted to 1-D systems."
   ]
  },
  {
   "cell_type": "code",
   "execution_count": 76,
   "metadata": {},
   "outputs": [],
   "source": [
    "class Walker_ensemble:\n",
    "    \n",
    "    def __init__(self, random_walk, potential, n_walkers, n_alpha, n_beta, constraint=None, pop_dyn=False, S=0.0):\n",
    "        \n",
    "        import numpy as np\n",
    "        from sympy.combinatorics.permutations import Permutation\n",
    "        import itertools as it\n",
    "        \n",
    "        L = 5. # Initial walker population will be (uniformly) distributed in the interval [-L, L]\n",
    "        \n",
    "        # Are we performing a regular run or recording population dynamics?\n",
    "        self.pop_dyn = pop_dyn\n",
    "        \n",
    "        # System specification\n",
    "        self.disp_generator = random_walk # An instance of random walk class\n",
    "        self.V = potential # A callable python object capable of operating on a walker (=set of particle coordinates)\n",
    "        self.S = S # initial guess for the growth estimator\n",
    "        self.apply_constraint = False\n",
    "        self.constraint = None\n",
    "        \n",
    "        if constraint != None:\n",
    "            self.constraint = constraint # A callable python object capable of operating on a walker and returning True/False\n",
    "            self.apply_constraint = True\n",
    "        \n",
    "        # Walker positions and weights; \n",
    "        # The former are expressed by the coordinates on the integer lattice.\n",
    "        # The latter should ALWAYS be \\pm 1!\n",
    "        self.n_alpha = n_alpha # number of alpha electrons\n",
    "        self.n_beta = n_beta   # number of beta electrons\n",
    "        self.lookup_a = {} # all permutations of alpha electrons with corresponding parities\n",
    "        self.lookup_b = {} # same for beta\n",
    "        \n",
    "        pa = it.permutations(np.arange(n_alpha))\n",
    "        pb = it.permutations(np.arange(n_beta))\n",
    "        \n",
    "        for i in pa:\n",
    "            parity = 1 if Permutation(i).is_even else -1\n",
    "            self.lookup_a[i] = parity\n",
    "        for i in pb:\n",
    "            parity = 1 if Permutation(i).is_even else -1\n",
    "            self.lookup_b[i] = parity\n",
    "        \n",
    "        self.walker_weights = np.ones(n_walkers, dtype=int)\n",
    "        self.walker_coords = np.zeros((n_walkers, n_alpha + n_beta), dtype=int)\n",
    "        \n",
    "        # Timing info for reference purposes\n",
    "        self.time = {'total': 0.0, 'branching': 0.0, 'phase_update': 0.0, 'annihilation' : 0.0, 'n_steps' : 0}\n",
    "                \n",
    "        # Initialize walker ensemble \n",
    "        # and make sure that the walkers conform to the Pauli principle and don't violate constraints\n",
    "        d = self.disp_generator.delta\n",
    "        grid_init = np.arange(-L/d, L/d + 1, dtype=int)\n",
    "        kwargs = {'size' : n_alpha, 'replace' : False} # replace = False makes sure that the Pauli principle is not violated\n",
    "        alpha_coord = np.apply_along_axis(np.random.choice, 1, np.broadcast_to(grid_init, (n_walkers, grid_init.shape[0])), **kwargs)\n",
    "        alpha_coord = np.apply_along_axis(np.sort, 1, alpha_coord)\n",
    "        kwargs = {'size' : n_beta, 'replace' : False}\n",
    "        beta_coord = np.apply_along_axis(np.random.choice, 1, np.broadcast_to(grid_init, (n_walkers, grid_init.shape[0])), **kwargs) \n",
    "        beta_coord = np.apply_along_axis(np.sort, 1, beta_coord)\n",
    "        \n",
    "        # Check if the coordinates of alpha and beta particles indeed satisfy the Pauli principle\n",
    "        all_distinct = lambda ar : len(ar) == len(np.unique(ar))\n",
    "        a = np.apply_along_axis(all_distinct, 1, alpha_coord)\n",
    "        b = np.apply_along_axis(all_distinct, 1, beta_coord)\n",
    "        \n",
    "        if self.apply_constraint:\n",
    "            constr_a = np.apply_along_axis(self.constraint, 1, alpha_coord)\n",
    "            constr_b = np.apply_along_axis(self.constraint, 1, beta_coord)\n",
    "            a = np.logical_and(a, constr_a)\n",
    "            b = np.logical_and(b, constr_b)\n",
    "            \n",
    "        \n",
    "        alpha_ok = True if n_alpha == 0 else np.all(a)\n",
    "        beta_ok = True if n_beta == 0 else np.all(b)\n",
    "        \n",
    "        assert alpha_ok and beta_ok\n",
    "        \n",
    "        # Combine the coordinates of alpha and beta electrons (the resulting list may contain duplicates)\n",
    "        self.walker_coords = np.hstack((alpha_coord, beta_coord))\n",
    "        \n",
    "    def one_time_step(self):\n",
    "        \n",
    "        # High level grid QMC driver \n",
    "        \n",
    "        import numpy as np\n",
    "        import time\n",
    "        \n",
    "        start = time.clock()\n",
    "        \n",
    "        n_walkers_old = self.get_number_of_walkers()\n",
    "                \n",
    "        self._diffuse_and_branch()\n",
    "        \n",
    "        self.time['branching'] += time.clock() - start\n",
    "        \n",
    "        t1 = time.clock()\n",
    "        \n",
    "        self._update_phases()\n",
    "                \n",
    "        self.time['phase_update'] += time.clock() - t1\n",
    "        \n",
    "        t2 = time.clock()\n",
    "        \n",
    "        self._annihilate_walkers()\n",
    "        \n",
    "        self.time['annihilation'] += time.clock() - t2\n",
    "        self.time['total'] += time.clock() - start\n",
    "        self.time['n_steps'] += 1\n",
    "        \n",
    "        n_walkers_new = self.get_number_of_walkers()\n",
    "        #print(\"Number of walkers at the end of the step is {0}\".format(n_walkers_new))\n",
    "        \n",
    "        if not self.pop_dyn:\n",
    "            self.S = self.S + 1./ self.disp_generator.tau * np.log(n_walkers_old/float(n_walkers_new))\n",
    "    \n",
    "    def _diffuse_and_branch(self):\n",
    "        \n",
    "        import numpy as np\n",
    "        \n",
    "        # Perform diffusion displacement\n",
    "        \n",
    "        random_walk =  self.disp_generator\n",
    "        d = self.disp_generator.delta # grid spacing\n",
    "        t = self.disp_generator.tau   # imaginary time step\n",
    "        \n",
    "        # the code snippet below will work correctly only if all weights are \\pm 1\n",
    "        n_walkers = self.get_number_of_walkers()\n",
    "        assert n_walkers == self.walker_weights.shape[0]\n",
    "        walker_size = self.n_alpha + self.n_beta\n",
    "        disp = random_walk(n_walkers*walker_size)\n",
    "        disp = disp.reshape(n_walkers, walker_size)\n",
    "        \n",
    "        # Some displacements give rise to the particles with\n",
    "        # identical spin labels sitting on top of each other;\n",
    "        # Those violate the Pauli principle and should be removed\n",
    "        \n",
    "        new_walker_coords = self.walker_coords + disp\n",
    "        new_coords_a, new_coords_b = np.hsplit(new_walker_coords, [self.n_alpha])\n",
    "        all_distinct = lambda ar : len(ar) == len(np.unique(ar))\n",
    "        a = np.apply_along_axis(all_distinct, 1, new_coords_a)\n",
    "        b = np.apply_along_axis(all_distinct, 1, new_coords_b)\n",
    "        #print(a)\n",
    "        #print(b)\n",
    "        alive = np.logical_and(a,b) # positions of alive walkers\n",
    "        \n",
    "        # Apply constraints if any\n",
    "        \n",
    "        if self.apply_constraint:\n",
    "            constr_a = np.apply_along_axis(self.constraint, 1, new_coords_a)\n",
    "            constr_b = np.apply_along_axis(self.constraint, 1, new_coords_b)\n",
    "            c = np.logical_and(constr_a, constr_b)\n",
    "            alive = np.logical_and(c, alive)\n",
    "        \n",
    "       \n",
    "        self.walker_coords = np.array(self.walker_coords[alive,:], dtype=int)\n",
    "        self.walker_weights = np.array(self.walker_weights[alive], dtype=int)\n",
    "        new_walker_coords = np.array(new_walker_coords[alive,:], dtype=int)\n",
    "        \n",
    "        # After this step one may still have all-electron walkers sitting atop of each other\n",
    "        # but the algorithm is blind to that\n",
    "        # Perform branching\n",
    "        # NOTE: only alive walkers are participating in branching\n",
    "               \n",
    "        m = np.exp(-0.5 * t * ( np.apply_along_axis(self.V, 1, d*self.walker_coords) + np.apply_along_axis(self.V, 1, d*new_walker_coords) - 2. * self.S))\n",
    "        r = np.random.rand(m.shape[0])\n",
    "        \n",
    "        # Assign integer weights and remove dead walkers\n",
    "        \n",
    "        new_walker_weights = np.asarray(m + r, dtype=int) * self.walker_weights\n",
    "        alive = (new_walker_weights != 0)\n",
    "        self.walker_coords = np.array(new_walker_coords[alive,:], dtype=int)\n",
    "        self.walker_weights = np.array(new_walker_weights[alive], dtype=int)\n",
    "        \n",
    "        # Some walkers can acquire abs. weights > 1\n",
    "        # Those clusters need to be separated\n",
    "        # That will be done after the annihilation step\n",
    "    \n",
    "    def _update_phases(self):\n",
    "        \n",
    "        import numpy as np\n",
    "               \n",
    "        # Update walker signs based on whether the coordinates got interchanged\n",
    "        # Split alpha and beta subsets first\n",
    "        \n",
    "        alpha_coord, beta_coord = np.hsplit(self.walker_coords, [self.n_alpha])\n",
    "        p_alpha = np.argsort(alpha_coord, axis=1)\n",
    "        p_beta = np.argsort(beta_coord, axis=1)\n",
    "        \n",
    "        parity = lambda p: self.lookup_a[tuple(p)]\n",
    "        parity_a = np.apply_along_axis(parity, 1, p_alpha)\n",
    "        parity = lambda p: self.lookup_b[tuple(p)]\n",
    "        parity_b = np.apply_along_axis(parity, 1, p_beta)\n",
    "        \n",
    "        self.walker_weights = self.walker_weights * parity_a * parity_b\n",
    "        alpha_coord = np.sort(alpha_coord, axis=1)\n",
    "        beta_coord = np.sort(beta_coord, axis=1)\n",
    "        \n",
    "        self.walker_coords = np.hstack((alpha_coord, beta_coord))\n",
    "        \n",
    " \n",
    "    def _annihilate_walkers(self, catch_collisions=False):\n",
    "                \n",
    "        # Find and collect duplicates (perform annihilation)\n",
    "        # A \"quick and dirty\" way to accomplish that is to hash\n",
    "        # the walker coordinates & perform sorting;\n",
    "                \n",
    "        converter = lambda a: hash(a.tostring())\n",
    "        walker_coords_str = np.apply_along_axis(converter, 1, self.walker_coords)\n",
    "        \n",
    "        if catch_collisions:\n",
    "            \n",
    "            # Check if we have any collisions, i.e. all the hashes are distinct for distinct walkers\n",
    "            \n",
    "            unique_hashes = set(walker_coords_str)\n",
    "            walker_index = np.arange(walker_coords_str.shape[0], dtype=int)\n",
    "        \n",
    "            if len(unique_hashes) != len(walker_index):\n",
    "            \n",
    "                # Check if there is a collision\n",
    "                for h in unique_hashes:\n",
    "                    walkers_with_hash_h = np.array(self.walker_coords[(h == walker_coords_str), :], dtype=int)\n",
    "                    if len(walkers_with_hash_h) == 1:\n",
    "                        continue\n",
    "                    else:\n",
    "                        assert np.all(walkers_with_hash_h[0][:] == walkers_with_hash_h) # broadcasted!\n",
    "        \n",
    "            \n",
    "        unique_walkers_str_, idx = np.unique(walker_coords_str, return_index = True)\n",
    "        combined_weights = []\n",
    "        \n",
    "        for i in idx:\n",
    "            idx_duplicates = (walker_coords_str[i] == walker_coords_str)\n",
    "            combined_weights.append(np.sum(self.walker_weights[idx_duplicates]))\n",
    "            \n",
    "        self.walker_coords = np.array(self.walker_coords[idx, :], dtype=int)\n",
    "        self.walker_weights = np.array(combined_weights, dtype=int)\n",
    "        \n",
    "        self._expand()\n",
    "    \n",
    "    def _expand(self):\n",
    "        \n",
    "        # Simplified version of expand function\n",
    "        # implemented without using fancy NumPy features\n",
    "                \n",
    "        n = self.walker_weights.shape[0]\n",
    "        split_weights = []\n",
    "        split_coords = []\n",
    "        \n",
    "        for i in range(n):\n",
    "            num_of_instances = abs(self.walker_weights[i])\n",
    "            sign = 1 if self.walker_weights[i] > 0 else -1\n",
    "            for j in range(num_of_instances):\n",
    "                split_weights.append(sign)\n",
    "                split_coords.append(self.walker_coords[i, :])\n",
    "        \n",
    "        self.walker_coords = np.vstack(tuple(split_coords))\n",
    "        self.walker_weights = np.array(split_weights, dtype=int)\n",
    "        \n",
    "    def get_number_of_walkers(self):\n",
    "        import numpy as np\n",
    "        return np.sum(np.abs(self.walker_weights))\n",
    "    \n",
    "    def get_energy(self):\n",
    "        return self.S\n",
    "  "
   ]
  },
  {
   "cell_type": "markdown",
   "metadata": {},
   "source": [
    "## Applications ##"
   ]
  },
  {
   "cell_type": "markdown",
   "metadata": {},
   "source": [
    "### Fermions in harmonic trap ###\n",
    "\n",
    "Non-interacting fermions in harmonic trap provide a convenient test case for the algorithm of the previous section for the following reasons:\n",
    "\n",
    "1. Numerically exact energies for finite (non-zero) grid spacings can be readily calculated as sums of one-particle eigenvalues.\n",
    "2. The fermions are confined by soft non-divergent potential so that the branching factors in QMC are always finite.\n",
    "\n",
    "In the following we will assume that the potential energy oprator is $V = \\frac{1}{2} \\sum_{i=1}^{N_e} x_i^{2}$ and consider the cases where $N_e = 1, 2, 3$ and $4$"
   ]
  },
  {
   "cell_type": "code",
   "execution_count": 42,
   "metadata": {},
   "outputs": [],
   "source": [
    "def V_harm(x):\n",
    "    return 0.5 * np.sum(x**2)"
   ]
  },
  {
   "cell_type": "markdown",
   "metadata": {},
   "source": [
    "### Case $N_e = 1$ ###\n",
    "\n",
    "As a first step, we determine the reference energies of one-particle states via direct diagonalization of the Hamiltonian obtained by approximating the kinetic energy operator using a three point finite difference  formula on a **uniform** grid with sapcing $\\delta = 0.1$ a.u. spanning the interval $[-L, L]$:\n",
    "\n",
    "$$ \\hat{T}\\psi(x_i) = \\frac{2\\psi(x_i) - \\psi(x_{i + 1}) - \\psi(x_{i - 1})}{2\\delta^{2}}, $$\n",
    "\n",
    "where $x_{i\\pm1} = x_i \\pm \\delta$. Scince our goal is to approximate the solutions of the stationary Shrodinger equation for $L \\to +\\infty$ we perform a series of diagonalizations for increasing $L$ requiring that the energies of a selected subset of low-lying states have **at least 6 digits of accuracy**. The calculations are performed assuming the boundary condition $\\psi(L) = \\psi(-L) = 0$."
   ]
  },
  {
   "cell_type": "code",
   "execution_count": 43,
   "metadata": {},
   "outputs": [
    {
     "name": "stdout",
     "output_type": "stream",
     "text": [
      "Energies of harmonic oscillator states on a uniform grid with spacing 0.1\n",
      "[ 0.4996873   1.49843574  2.49593063  3.49216962  4.48715031]\n"
     ]
    }
   ],
   "source": [
    "from numpy import linalg as LA\n",
    "\n",
    "def construct_H(L, delta):\n",
    "    # Input:\n",
    "    # L     - grid span\n",
    "    # delta - grid spacing \n",
    "    # Output:\n",
    "    # $H_{\\delta}$ - matrix of the discretized Hamiltonian\n",
    "    x = np.linspace(-L, L, int(2. * L / delta) + 1) # grid points\n",
    "    V = np.diag(0.5 * x**2)                        # potential energy\n",
    "    T = -1./ (2. * delta**2) * ( np.eye(len(x), k = 1) - 2. * np.eye(len(x)) + np.eye(len(x), k =-1) ) # kinetic energy\n",
    "    return T + V\n",
    "\n",
    "delta = 0.1\n",
    "L = 4. # Initial grid span\n",
    "eps = 1e-6\n",
    "converged = False\n",
    "e5 = np.zeros(5)\n",
    "\n",
    "while not converged:\n",
    "    H = construct_H(L, delta)\n",
    "    e = LA.eigvalsh(H)\n",
    "    e5_new = np.array(e[0:5])\n",
    "    if max(abs(e5_new - e5)) < eps:\n",
    "        converged = True\n",
    "    else:\n",
    "        L *= 2.\n",
    "    \n",
    "    e5 = np.copy(e5_new)\n",
    "\n",
    "print(\"Energies of harmonic oscillator states on a uniform grid with spacing {0}\".format(delta))\n",
    "print(e5)"
   ]
  },
  {
   "cell_type": "markdown",
   "metadata": {},
   "source": [
    "Alternatively, the ground state of the 1-D harmonic oscillator can be sampled using quantum Monte-Carlo scheme:"
   ]
  },
  {
   "cell_type": "code",
   "execution_count": 47,
   "metadata": {},
   "outputs": [
    {
     "name": "stdout",
     "output_type": "stream",
     "text": [
      "Number of walkers at the end of equilibration run is 2004\n",
      "Starting production run...\n",
      "Average energy at the end of the production run:      0.500943\n"
     ]
    }
   ],
   "source": [
    "rw0101 = Random_walk(delta=0.1, tau=0.1) # define a new random walk on a grid with spacing delta = 0.1 and tau = 0.1\n",
    "D1 = Walker_ensemble(random_walk=rw0101, potential=V_harm, n_walkers=2000, n_alpha=1, n_beta=0, S=0.5)\n",
    "\n",
    "N_equil = 500\n",
    "N_prod = 2048\n",
    "E = np.zeros(N_prod)\n",
    "N = np.zeros(N_prod)\n",
    "\n",
    "#Perform N_equil equilibration steps\n",
    "for i in range(N_equil):\n",
    "    D1.one_time_step()\n",
    "\n",
    "print(\"Number of walkers at the end of equilibration run is {0}\".format(D1.get_number_of_walkers()))\n",
    "print(\"Starting production run...\")\n",
    "\n",
    "for i in range(N_prod):\n",
    "    D1.one_time_step()\n",
    "    E[i] = D1.get_energy()\n",
    "    N[i] = D1.get_number_of_walkers()\n",
    "    \n",
    "print(\"Average energy at the end of the production run: {0:13.6f}\".format(np.mean(E)))\n",
    "    \n"
   ]
  },
  {
   "cell_type": "markdown",
   "metadata": {},
   "source": [
    "In order to calculate statistical errors of the energy estimators we used blocking algorithm as described in [H.Flyvbjerg et al. *J. Chem. Phys.* 91, 461 (1989)](https://www.google.com/url?sa=t&rct=j&q=&esrc=s&source=web&cd=1&cad=rja&uact=8&ved=2ahUKEwiBjaaf68ndAhXH6YMKHSuyCdgQFjAAegQIBBAB&url=https%3A%2F%2Faip.scitation.org%2Fdoi%2F10.1063%2F1.457480&usg=AOvVaw0DEeYW79PHKKZfPb61xsKZ). The notebook relies on the python implementation of the bloking analysis due to J.Spencer which is freely available from the Github page [pyblock](https://github.com/jsspencer/pyblock)"
   ]
  },
  {
   "cell_type": "code",
   "execution_count": 48,
   "metadata": {},
   "outputs": [],
   "source": [
    "pyblock_is_installed = True\n",
    "try:\n",
    "    import pyblock as pb\n",
    "except ImportError as e:\n",
    "    print(\"PyBlock was not found! The error estimates will not be available.\")\n",
    "    pyblock_is_installed = False\n",
    "    "
   ]
  },
  {
   "cell_type": "code",
   "execution_count": 57,
   "metadata": {},
   "outputs": [
    {
     "name": "stdout",
     "output_type": "stream",
     "text": [
      "Optimal block: [5]\n",
      "BlockTuple(block=5, ndata=64, mean=array(0.5009431527081165), cov=array(0.00014861497030582347), std_err=array(0.0015238467478813254), std_err_err=array(0.00013575505810765735))\n",
      "< E > =   0.500943 +-   0.001524\n"
     ]
    }
   ],
   "source": [
    "# If PyBlock is found we can proceed to calculate statistical errors\n",
    "if pyblock_is_installed:\n",
    "    reblock_data = pb.blocking.reblock(E)\n",
    "    opt = pb.blocking.find_optimal_block(len(E), reblock_data)\n",
    "    print(\"Optimal block: {}\".format(opt))\n",
    "    print(reblock_data[opt[0]])\n",
    "    print(\"< E > = {0:10.6f} +- {1:10.6f}\".format(float(reblock_data[opt[0]][2]), float(reblock_data[opt[0]][4])))"
   ]
  },
  {
   "cell_type": "markdown",
   "metadata": {},
   "source": [
    "Error analysis demonstrates that the energy estimate agrees with the exact diagonlaization result within the statistical error margins."
   ]
  },
  {
   "cell_type": "markdown",
   "metadata": {},
   "source": [
    "### Case $N_e = 2$ ###\n",
    "\n",
    "Admissible values of the total spin for 2 electrons in a harmonic trap are 0 (singlet) and 1 (triplet). Singlet state corresponds to the doubly occupied ground state of one particle problem and is nodeless. Triplet state exhibits a node at $x_1 = x_2$. The reference energies of the states are calculated below."
   ]
  },
  {
   "cell_type": "code",
   "execution_count": 59,
   "metadata": {},
   "outputs": [
    {
     "name": "stdout",
     "output_type": "stream",
     "text": [
      "E(singlet) =      0.999375 a.u.\n",
      "E(triplet) =      1.998123 a.u.\n"
     ]
    }
   ],
   "source": [
    "# Singlet state occupation numbers\n",
    "singlet_occ = np.array([2, 0, 0, 0, 0])\n",
    "# Triplet state occupation numbers\n",
    "triplet_occ = np.array([1, 1, 0, 0, 0])\n",
    "\n",
    "print(\"E(singlet) = {0:13.6f} a.u.\".format(np.dot(singlet_occ, e5)))\n",
    "print(\"E(triplet) = {0:13.6f} a.u.\".format(np.dot(triplet_occ, e5)))"
   ]
  },
  {
   "cell_type": "code",
   "execution_count": 60,
   "metadata": {},
   "outputs": [
    {
     "name": "stdout",
     "output_type": "stream",
     "text": [
      "Number of walkers at the end of equilibration run is 2002 (singlet)\n",
      "Number of walkers at the end of equilibration run is 2004 (triplet)\n",
      "Starting production runs...\n",
      "Average energy at the end of the production run (S = 0):      1.000598\n",
      "Average energy at the end of the production run (S = 1):      1.998883\n"
     ]
    }
   ],
   "source": [
    "S2 = Walker_ensemble(random_walk=rw0101, potential=V_harm, n_walkers=2000, n_alpha=1, n_beta=1, S = 1.0)\n",
    "T2 = Walker_ensemble(random_walk=rw0101, potential=V_harm, n_walkers=2000, n_alpha=2, n_beta=0, S = 2.0)\n",
    "\n",
    "E_S = np.zeros(N_prod)\n",
    "N_S = np.zeros(N_prod)\n",
    "\n",
    "E_T = np.zeros(N_prod)\n",
    "N_T = np.zeros(N_prod)\n",
    "\n",
    "for i in range(N_equil):\n",
    "    S2.one_time_step()\n",
    "    T2.one_time_step()\n",
    "\n",
    "print(\"Number of walkers at the end of equilibration run is {0} (singlet)\".format(S2.get_number_of_walkers()))\n",
    "print(\"Number of walkers at the end of equilibration run is {0} (triplet)\".format(T2.get_number_of_walkers()))\n",
    "print(\"Starting production runs...\")\n",
    "\n",
    "for i in range(N_prod):\n",
    "    S2.one_time_step()\n",
    "    T2.one_time_step()\n",
    "\n",
    "    E_S[i] = S2.get_energy()\n",
    "    N_S[i] = S2.get_number_of_walkers()\n",
    "    E_T[i] = T2.get_energy()\n",
    "    N_T[i] = T2.get_number_of_walkers()\n",
    "    \n",
    "print(\"Average energy at the end of the production run (S = 0): {0:13.6f}\".format(np.mean(E_S)))\n",
    "print(\"Average energy at the end of the production run (S = 1): {0:13.6f}\".format(np.mean(E_T)))\n"
   ]
  },
  {
   "cell_type": "code",
   "execution_count": 61,
   "metadata": {},
   "outputs": [
    {
     "name": "stdout",
     "output_type": "stream",
     "text": [
      "Optimal block: [5]\n",
      "Singlet: < E > =   1.000598 +-   0.001908\n",
      "Optimal block: [5]\n",
      "Triplet: < E > =   1.998883 +-   0.002471\n"
     ]
    }
   ],
   "source": [
    "# A helper function\n",
    "def reblock(a):\n",
    "    if pyblock_is_installed:\n",
    "        reblock_data = pb.blocking.reblock(a)\n",
    "        opt = pb.blocking.find_optimal_block(len(a), reblock_data)\n",
    "        print(\"Optimal block: {}\".format(opt))\n",
    "        #print(reblock_data[opt[0]])\n",
    "        return \"< E > = {0:10.6f} +- {1:10.6f}\".format(float(reblock_data[opt[0]][2]), float(reblock_data[opt[0]][4]))\n",
    "    else:\n",
    "        print(\"PyBlock is not installed!\")\n",
    "        return None\n",
    "\n",
    "print(\"Singlet: \" + reblock(E_S))\n",
    "print(\"Triplet: \" + reblock(E_T))\n",
    "\n",
    "    "
   ]
  },
  {
   "cell_type": "markdown",
   "metadata": {},
   "source": [
    "### Case $N_e = 3$ ###\n",
    "\n",
    "Similar to $N_e = 2$ the system can have two values of total spin: $S = 1/2$ and $S = 3/2$. However, in contrast to the previous case none of the states is nodeless. The reference energies of the states are computed below."
   ]
  },
  {
   "cell_type": "code",
   "execution_count": 62,
   "metadata": {},
   "outputs": [
    {
     "name": "stdout",
     "output_type": "stream",
     "text": [
      "E(doublet) =      2.497810 a.u.\n",
      "E(quartet) =      4.494054 a.u.\n"
     ]
    }
   ],
   "source": [
    "# Doublet state occupation numbers\n",
    "doublet_occ = np.array([2, 1, 0, 0, 0])\n",
    "# Quartet state occupation numbers\n",
    "quartet_occ = np.array([1, 1, 1, 0, 0])\n",
    "\n",
    "print(\"E(doublet) = {0:13.6f} a.u.\".format(np.dot(doublet_occ, e5)))\n",
    "print(\"E(quartet) = {0:13.6f} a.u.\".format(np.dot(quartet_occ, e5)))"
   ]
  },
  {
   "cell_type": "markdown",
   "metadata": {},
   "source": [
    "Quantum Monte-Carlo calculations performed for S=1/2 and S=3/2 produce energy estimates that are too low compared to the exact results if the number of random walkers is around 2000. This example demonstrates that **similar to FCIQMC present method guarantees convergence to the target state with correct nodal structure only provided the total number of walkers exceeds the critical value ($N_c$).** The $N_c$ values can be estimated from the calculations with the fixed energy onset. "
   ]
  },
  {
   "cell_type": "code",
   "execution_count": 63,
   "metadata": {},
   "outputs": [
    {
     "name": "stdout",
     "output_type": "stream",
     "text": [
      "Number of walkers at the end of equilibration run is 2065 (doublet)\n",
      "Number of walkers at the end of equilibration run is 2222 (quartet)\n",
      "Starting production runs...\n",
      "Average energy at the end of the production run (S = 1/2):      2.255693\n",
      "Average energy at the end of the production run (S = 3/2):      3.378452\n"
     ]
    }
   ],
   "source": [
    "D3 = Walker_ensemble(random_walk=rw0101, potential=V_harm, n_walkers=2000, n_alpha=2, n_beta=1, S = 2.5)\n",
    "Q3 = Walker_ensemble(random_walk=rw0101, potential=V_harm, n_walkers=2000, n_alpha=3, n_beta=0, S = 4.5)\n",
    "\n",
    "E_D = np.zeros(N_prod)\n",
    "N_D = np.zeros(N_prod)\n",
    "\n",
    "E_Q = np.zeros(N_prod)\n",
    "N_Q = np.zeros(N_prod)\n",
    "\n",
    "for i in range(N_equil):\n",
    "    D3.one_time_step()\n",
    "    Q3.one_time_step()\n",
    "\n",
    "print(\"Number of walkers at the end of equilibration run is {0} (doublet)\".format(D3.get_number_of_walkers()))\n",
    "print(\"Number of walkers at the end of equilibration run is {0} (quartet)\".format(Q3.get_number_of_walkers()))\n",
    "print(\"Starting production runs...\")\n",
    "\n",
    "for i in range(N_prod):\n",
    "    D3.one_time_step()\n",
    "    Q3.one_time_step()\n",
    "\n",
    "    E_D[i] = D3.get_energy()\n",
    "    N_D[i] = D3.get_number_of_walkers()\n",
    "    E_Q[i] = Q3.get_energy()\n",
    "    N_Q[i] = Q3.get_number_of_walkers()\n",
    "    \n",
    "print(\"Average energy at the end of the production run (S = 1/2): {0:13.6f}\".format(np.mean(E_D)))\n",
    "print(\"Average energy at the end of the production run (S = 3/2): {0:13.6f}\".format(np.mean(E_Q)))"
   ]
  },
  {
   "cell_type": "code",
   "execution_count": 71,
   "metadata": {},
   "outputs": [
    {
     "name": "stdout",
     "output_type": "stream",
     "text": [
      "Starting population dynamics run for the doublet state...\n",
      "Starting population dynamics run for the quartet state...\n"
     ]
    },
    {
     "data": {
      "image/png": "[encoded data removed]",
      "text/plain": [
       "<Figure size 432x288 with 2 Axes>"
      ]
     },
     "metadata": {},
     "output_type": "display_data"
    }
   ],
   "source": [
    "# Population dynamics runs\n",
    "D3 = Walker_ensemble(random_walk=rw0101, potential=V_harm, n_walkers=500, n_alpha=2, n_beta=1, S = 2.51, pop_dyn=True)\n",
    "Q3 = Walker_ensemble(random_walk=rw0101, potential=V_harm, n_walkers=500, n_alpha=3, n_beta=0, S = 4.505, pop_dyn=True)\n",
    "N_max_Q = 9000\n",
    "N_max_D = 6000\n",
    "N_D = []\n",
    "N_Q = []\n",
    "\n",
    "print(\"Starting population dynamics run for the doublet state...\")\n",
    "while D3.get_number_of_walkers() < N_max_D:\n",
    "    D3.one_time_step()\n",
    "    N_D.append(D3.get_number_of_walkers())\n",
    "    \n",
    "    \n",
    "print(\"Starting population dynamics run for the quartet state...\")\n",
    "while Q3.get_number_of_walkers() < N_max_Q:\n",
    "    Q3.one_time_step()\n",
    "    N_Q.append(Q3.get_number_of_walkers())\n",
    "\n",
    "data = [('1/2', N_D), ('3/2', N_Q)]\n",
    "fig, axes = plt.subplots(nrows=1, ncols=2)\n",
    "for d, ax in zip(data, axes):\n",
    "    spin = d[0]\n",
    "    y = d[1]\n",
    "    x = np.arange(len(y))\n",
    "    ax.plot(x, y, 'r')\n",
    "    ax.set_xlabel('QMC step')\n",
    "    ax.set_ylabel('Number of walkers')\n",
    "    ax.set_title('Population dynamics (S = {0})'.format(spin))\n",
    "\n",
    "fig.tight_layout()"
   ]
  },
  {
   "cell_type": "markdown",
   "metadata": {},
   "source": [
    "Based on the results of the simulations with $S = const$ one can conclude that the critical number of walkers for the states with $S = 1/2$ and $S = 3/2$ are around 4000 and 8000, respectively. If we rerun quantum Monte-Carlo simulations with the walker ensembles of the corresponding sizes, the correct energies can be obtained."
   ]
  },
  {
   "cell_type": "code",
   "execution_count": 77,
   "metadata": {},
   "outputs": [
    {
     "name": "stdout",
     "output_type": "stream",
     "text": [
      "Number of walkers at the end of equilibration run is 4945 (doublet)\n",
      "Number of walkers at the end of equilibration run is 7917 (quartet)\n",
      "Starting production runs...\n",
      "Average energy at the end of the production run (S = 1/2):      2.499397\n",
      "Average energy at the end of the production run (S = 3/2):      4.488633\n"
     ]
    }
   ],
   "source": [
    "D3 = Walker_ensemble(random_walk=rw0101, potential=V_harm, n_walkers=5000, n_alpha=2, n_beta=1, S = 2.5)\n",
    "Q3 = Walker_ensemble(random_walk=rw0101, potential=V_harm, n_walkers=8000, n_alpha=3, n_beta=0, S = 4.5)\n",
    "\n",
    "E_D = np.zeros(N_prod)\n",
    "N_D = np.zeros(N_prod)\n",
    "\n",
    "E_Q = np.zeros(N_prod)\n",
    "N_Q = np.zeros(N_prod)\n",
    "\n",
    "for i in range(N_equil):\n",
    "    D3.one_time_step()\n",
    "    Q3.one_time_step()\n",
    "\n",
    "print(\"Number of walkers at the end of equilibration run is {0} (doublet)\".format(D3.get_number_of_walkers()))\n",
    "print(\"Number of walkers at the end of equilibration run is {0} (quartet)\".format(Q3.get_number_of_walkers()))\n",
    "print(\"Starting production runs...\")\n",
    "\n",
    "for i in range(N_prod):\n",
    "    D3.one_time_step()\n",
    "    Q3.one_time_step()\n",
    "\n",
    "    E_D[i] = D3.get_energy()\n",
    "    N_D[i] = D3.get_number_of_walkers()\n",
    "    E_Q[i] = Q3.get_energy()\n",
    "    N_Q[i] = Q3.get_number_of_walkers()\n",
    "    \n",
    "print(\"Average energy at the end of the production run (S = 1/2): {0:13.6f}\".format(np.mean(E_D)))\n",
    "print(\"Average energy at the end of the production run (S = 3/2): {0:13.6f}\".format(np.mean(E_Q)))"
   ]
  },
  {
   "cell_type": "code",
   "execution_count": 78,
   "metadata": {},
   "outputs": [
    {
     "name": "stdout",
     "output_type": "stream",
     "text": [
      "The run took 953.185147 s for doublet\n",
      "The run took 1433.397774 s for quartet\n"
     ]
    }
   ],
   "source": [
    "# Timing information\n",
    "print(\"The run took {0} s for doublet\".format(D3.time['total']))\n",
    "print(\"The run took {0} s for quartet\".format(Q3.time['total']))"
   ]
  },
  {
   "cell_type": "code",
   "execution_count": 79,
   "metadata": {},
   "outputs": [
    {
     "name": "stdout",
     "output_type": "stream",
     "text": [
      "Optimal block: [6]\n",
      "Doublet (QMC): < E > =   2.499397 +-   0.003835\n",
      "Optimal block: [6]\n",
      "Quartet (QMC): < E > =   4.488633 +-   0.004065\n",
      "Doublet (Ref): 2.49781034531\n",
      "Quartet (Ref): 4.49405367447\n"
     ]
    }
   ],
   "source": [
    "print(\"Doublet (QMC): \" + reblock(E_D))\n",
    "print(\"Quartet (QMC): \" + reblock(E_Q))\n",
    "\n",
    "print(\"Doublet (Ref): {}\".format(np.dot(doublet_occ, e5)))\n",
    "print(\"Quartet (Ref): {}\".format(np.dot(quartet_occ, e5)))"
   ]
  },
  {
   "cell_type": "markdown",
   "metadata": {},
   "source": [
    "The doublet energy is in slightly better agreement with the exact result compared to the quartet energy. As shown below, this can be attributed to the timestep error."
   ]
  },
  {
   "cell_type": "code",
   "execution_count": 80,
   "metadata": {},
   "outputs": [
    {
     "name": "stdout",
     "output_type": "stream",
     "text": [
      "Number of walkers at the end of equilibration run is 8064 (quartet)\n",
      "Starting production run...\n",
      "Average energy at the end of the production run (S = 3/2):      4.491615\n"
     ]
    }
   ],
   "source": [
    "rw01005 = Random_walk(delta=0.1, tau=0.05)\n",
    "Q3_1 = Walker_ensemble(random_walk=rw01005, potential=V_harm, n_walkers=8000, n_alpha=3, n_beta=0, S = 4.5)\n",
    "\n",
    "E_Q_1 = np.zeros(N_prod)\n",
    "N_Q_1 = np.zeros(N_prod)\n",
    "\n",
    "for i in range(N_equil):\n",
    "    Q3_1.one_time_step()\n",
    "\n",
    "print(\"Number of walkers at the end of equilibration run is {0} (quartet)\".format(Q3_1.get_number_of_walkers()))\n",
    "print(\"Starting production run...\")\n",
    "\n",
    "for i in range(N_prod):\n",
    "    Q3_1.one_time_step()\n",
    "    E_Q_1[i] = Q3_1.get_energy()\n",
    "    N_Q_1[i] = Q3_1.get_number_of_walkers()\n",
    "    \n",
    "print(\"Average energy at the end of the production run (S = 3/2): {0:13.6f}\".format(np.mean(E_Q_1)))"
   ]
  },
  {
   "cell_type": "code",
   "execution_count": 82,
   "metadata": {},
   "outputs": [
    {
     "name": "stdout",
     "output_type": "stream",
     "text": [
      "Optimal block: [5]\n",
      "Quartet (QMC), tau = 0.05: < E > =   4.491615 +-   0.003630\n",
      "Quartet (Ref):  4.494054\n"
     ]
    }
   ],
   "source": [
    "print(\"Quartet (QMC), tau = 0.05: \" + reblock(E_Q_1))\n",
    "print(\"Quartet (Ref): {0:9.6f}\".format(np.dot(quartet_occ, e5)))"
   ]
  }
 ],
 "metadata": {
  "kernelspec": {
   "display_name": "Python 2",
   "language": "python",
   "name": "python2"
  },
  "language_info": {
   "codemirror_mode": {
    "name": "ipython",
    "version": 2
   },
   "file_extension": ".py",
   "mimetype": "text/x-python",
   "name": "python",
   "nbconvert_exporter": "python",
   "pygments_lexer": "ipython2",
   "version": "2.7.15"
  }
 },
 "nbformat": 4,
 "nbformat_minor": 2
}
